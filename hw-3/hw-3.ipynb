{
 "cells": [
  {
   "cell_type": "code",
   "execution_count": 61,
   "metadata": {},
   "outputs": [],
   "source": [
    "from surprise import SVD\n",
    "from surprise import KNNWithMeans\n",
    "from surprise import Dataset\n",
    "from surprise import accuracy\n",
    "from surprise import Reader\n",
    "from surprise.model_selection import train_test_split\n",
    "\n",
    "import pandas as pd\n",
    "import numpy as np"
   ]
  },
  {
   "cell_type": "code",
   "execution_count": 2,
   "metadata": {},
   "outputs": [],
   "source": [
    "unames = ['user_id', 'gender', 'age', 'occupation', 'zip']\n",
    "users = pd.read_table('../hw-2/ml-1m/users.dat', sep='::', header=None, names=unames, engine='python')\n",
    "\n",
    "rnames = ['user_id', 'movie_id', 'rating', 'timestamp']\n",
    "ratings = pd.read_table('../hw-2/ml-1m/ratings.dat', sep='::', header=None, names=rnames, engine='python')\n",
    "\n",
    "\n",
    "mnames = ['movie_id', 'title', 'genres']\n",
    "movies = pd.read_table('../hw-2/ml-1m/movies.dat', sep='::', header=None, names=mnames, engine='python')"
   ]
  },
  {
   "cell_type": "code",
   "execution_count": 3,
   "metadata": {},
   "outputs": [
    {
     "data": {
      "text/html": [
       "<div>\n",
       "<style scoped>\n",
       "    .dataframe tbody tr th:only-of-type {\n",
       "        vertical-align: middle;\n",
       "    }\n",
       "\n",
       "    .dataframe tbody tr th {\n",
       "        vertical-align: top;\n",
       "    }\n",
       "\n",
       "    .dataframe thead th {\n",
       "        text-align: right;\n",
       "    }\n",
       "</style>\n",
       "<table border=\"1\" class=\"dataframe\">\n",
       "  <thead>\n",
       "    <tr style=\"text-align: right;\">\n",
       "      <th></th>\n",
       "      <th>user_id</th>\n",
       "      <th>movie_id</th>\n",
       "      <th>rating</th>\n",
       "      <th>timestamp</th>\n",
       "      <th>gender</th>\n",
       "      <th>age</th>\n",
       "      <th>occupation</th>\n",
       "      <th>zip</th>\n",
       "      <th>title</th>\n",
       "      <th>genres</th>\n",
       "    </tr>\n",
       "  </thead>\n",
       "  <tbody>\n",
       "    <tr>\n",
       "      <th>0</th>\n",
       "      <td>1</td>\n",
       "      <td>1193</td>\n",
       "      <td>5</td>\n",
       "      <td>978300760</td>\n",
       "      <td>F</td>\n",
       "      <td>1</td>\n",
       "      <td>10</td>\n",
       "      <td>48067</td>\n",
       "      <td>One Flew Over the Cuckoo's Nest (1975)</td>\n",
       "      <td>Drama</td>\n",
       "    </tr>\n",
       "    <tr>\n",
       "      <th>1</th>\n",
       "      <td>2</td>\n",
       "      <td>1193</td>\n",
       "      <td>5</td>\n",
       "      <td>978298413</td>\n",
       "      <td>M</td>\n",
       "      <td>56</td>\n",
       "      <td>16</td>\n",
       "      <td>70072</td>\n",
       "      <td>One Flew Over the Cuckoo's Nest (1975)</td>\n",
       "      <td>Drama</td>\n",
       "    </tr>\n",
       "    <tr>\n",
       "      <th>2</th>\n",
       "      <td>12</td>\n",
       "      <td>1193</td>\n",
       "      <td>4</td>\n",
       "      <td>978220179</td>\n",
       "      <td>M</td>\n",
       "      <td>25</td>\n",
       "      <td>12</td>\n",
       "      <td>32793</td>\n",
       "      <td>One Flew Over the Cuckoo's Nest (1975)</td>\n",
       "      <td>Drama</td>\n",
       "    </tr>\n",
       "    <tr>\n",
       "      <th>3</th>\n",
       "      <td>15</td>\n",
       "      <td>1193</td>\n",
       "      <td>4</td>\n",
       "      <td>978199279</td>\n",
       "      <td>M</td>\n",
       "      <td>25</td>\n",
       "      <td>7</td>\n",
       "      <td>22903</td>\n",
       "      <td>One Flew Over the Cuckoo's Nest (1975)</td>\n",
       "      <td>Drama</td>\n",
       "    </tr>\n",
       "    <tr>\n",
       "      <th>4</th>\n",
       "      <td>17</td>\n",
       "      <td>1193</td>\n",
       "      <td>5</td>\n",
       "      <td>978158471</td>\n",
       "      <td>M</td>\n",
       "      <td>50</td>\n",
       "      <td>1</td>\n",
       "      <td>95350</td>\n",
       "      <td>One Flew Over the Cuckoo's Nest (1975)</td>\n",
       "      <td>Drama</td>\n",
       "    </tr>\n",
       "  </tbody>\n",
       "</table>\n",
       "</div>"
      ],
      "text/plain": [
       "   user_id  movie_id  rating  timestamp gender  age  occupation    zip  \\\n",
       "0        1      1193       5  978300760      F    1          10  48067   \n",
       "1        2      1193       5  978298413      M   56          16  70072   \n",
       "2       12      1193       4  978220179      M   25          12  32793   \n",
       "3       15      1193       4  978199279      M   25           7  22903   \n",
       "4       17      1193       5  978158471      M   50           1  95350   \n",
       "\n",
       "                                    title genres  \n",
       "0  One Flew Over the Cuckoo's Nest (1975)  Drama  \n",
       "1  One Flew Over the Cuckoo's Nest (1975)  Drama  \n",
       "2  One Flew Over the Cuckoo's Nest (1975)  Drama  \n",
       "3  One Flew Over the Cuckoo's Nest (1975)  Drama  \n",
       "4  One Flew Over the Cuckoo's Nest (1975)  Drama  "
      ]
     },
     "execution_count": 3,
     "metadata": {},
     "output_type": "execute_result"
    }
   ],
   "source": [
    "data=pd.merge(pd.merge(ratings,users),movies)\n",
    "data.head()"
   ]
  },
  {
   "cell_type": "code",
   "execution_count": 4,
   "metadata": {},
   "outputs": [
    {
     "name": "stdout",
     "output_type": "stream",
     "text": [
      "<class 'pandas.core.frame.DataFrame'>\n",
      "Int64Index: 1000209 entries, 0 to 1000208\n",
      "Data columns (total 10 columns):\n",
      " #   Column      Non-Null Count    Dtype \n",
      "---  ------      --------------    ----- \n",
      " 0   user_id     1000209 non-null  int64 \n",
      " 1   movie_id    1000209 non-null  int64 \n",
      " 2   rating      1000209 non-null  int64 \n",
      " 3   timestamp   1000209 non-null  int64 \n",
      " 4   gender      1000209 non-null  object\n",
      " 5   age         1000209 non-null  int64 \n",
      " 6   occupation  1000209 non-null  int64 \n",
      " 7   zip         1000209 non-null  object\n",
      " 8   title       1000209 non-null  object\n",
      " 9   genres      1000209 non-null  object\n",
      "dtypes: int64(6), object(4)\n",
      "memory usage: 83.9+ MB\n"
     ]
    }
   ],
   "source": [
    "data.info()"
   ]
  },
  {
   "cell_type": "code",
   "execution_count": 5,
   "metadata": {},
   "outputs": [
    {
     "data": {
      "text/html": [
       "<div>\n",
       "<style scoped>\n",
       "    .dataframe tbody tr th:only-of-type {\n",
       "        vertical-align: middle;\n",
       "    }\n",
       "\n",
       "    .dataframe tbody tr th {\n",
       "        vertical-align: top;\n",
       "    }\n",
       "\n",
       "    .dataframe thead th {\n",
       "        text-align: right;\n",
       "    }\n",
       "</style>\n",
       "<table border=\"1\" class=\"dataframe\">\n",
       "  <thead>\n",
       "    <tr style=\"text-align: right;\">\n",
       "      <th></th>\n",
       "      <th>uid</th>\n",
       "      <th>iid</th>\n",
       "      <th>rating</th>\n",
       "    </tr>\n",
       "  </thead>\n",
       "  <tbody>\n",
       "    <tr>\n",
       "      <th>0</th>\n",
       "      <td>1</td>\n",
       "      <td>One Flew Over the Cuckoo's Nest (1975)</td>\n",
       "      <td>5</td>\n",
       "    </tr>\n",
       "    <tr>\n",
       "      <th>1</th>\n",
       "      <td>2</td>\n",
       "      <td>One Flew Over the Cuckoo's Nest (1975)</td>\n",
       "      <td>5</td>\n",
       "    </tr>\n",
       "    <tr>\n",
       "      <th>2</th>\n",
       "      <td>12</td>\n",
       "      <td>One Flew Over the Cuckoo's Nest (1975)</td>\n",
       "      <td>4</td>\n",
       "    </tr>\n",
       "    <tr>\n",
       "      <th>3</th>\n",
       "      <td>15</td>\n",
       "      <td>One Flew Over the Cuckoo's Nest (1975)</td>\n",
       "      <td>4</td>\n",
       "    </tr>\n",
       "    <tr>\n",
       "      <th>4</th>\n",
       "      <td>17</td>\n",
       "      <td>One Flew Over the Cuckoo's Nest (1975)</td>\n",
       "      <td>5</td>\n",
       "    </tr>\n",
       "  </tbody>\n",
       "</table>\n",
       "</div>"
      ],
      "text/plain": [
       "   uid                                     iid  rating\n",
       "0    1  One Flew Over the Cuckoo's Nest (1975)       5\n",
       "1    2  One Flew Over the Cuckoo's Nest (1975)       5\n",
       "2   12  One Flew Over the Cuckoo's Nest (1975)       4\n",
       "3   15  One Flew Over the Cuckoo's Nest (1975)       4\n",
       "4   17  One Flew Over the Cuckoo's Nest (1975)       5"
      ]
     },
     "execution_count": 5,
     "metadata": {},
     "output_type": "execute_result"
    }
   ],
   "source": [
    "dataset = pd.DataFrame({\n",
    "    'uid': data.user_id,\n",
    "    'iid': data.title,\n",
    "    'rating': data.rating\n",
    "})\n",
    "dataset.head()"
   ]
  },
  {
   "cell_type": "code",
   "execution_count": 6,
   "metadata": {},
   "outputs": [
    {
     "data": {
      "text/plain": [
       "1"
      ]
     },
     "execution_count": 6,
     "metadata": {},
     "output_type": "execute_result"
    }
   ],
   "source": [
    "data.rating.min()"
   ]
  },
  {
   "cell_type": "code",
   "execution_count": 7,
   "metadata": {},
   "outputs": [
    {
     "data": {
      "text/plain": [
       "5"
      ]
     },
     "execution_count": 7,
     "metadata": {},
     "output_type": "execute_result"
    }
   ],
   "source": [
    "data.rating.max()"
   ]
  },
  {
   "cell_type": "code",
   "execution_count": 8,
   "metadata": {},
   "outputs": [],
   "source": [
    "reader = Reader(rating_scale=(1.0, 5.0))\n",
    "data_for_surprise = Dataset.load_from_df(dataset, reader)"
   ]
  },
  {
   "cell_type": "code",
   "execution_count": 9,
   "metadata": {},
   "outputs": [],
   "source": [
    "trainset, testset = train_test_split(data_for_surprise, test_size=.15)"
   ]
  },
  {
   "cell_type": "markdown",
   "metadata": {},
   "source": [
    "* В качестве гибридной модели будет блендинг из KNN и SVD"
   ]
  },
  {
   "cell_type": "code",
   "execution_count": 10,
   "metadata": {},
   "outputs": [
    {
     "name": "stdout",
     "output_type": "stream",
     "text": [
      "Estimating biases using als...\n",
      "Computing the pearson_baseline similarity matrix...\n",
      "Done computing similarity matrix.\n"
     ]
    },
    {
     "data": {
      "text/plain": [
       "<surprise.prediction_algorithms.knns.KNNWithMeans at 0x220f601b5b0>"
      ]
     },
     "execution_count": 10,
     "metadata": {},
     "output_type": "execute_result"
    }
   ],
   "source": [
    "algo_1 = KNNWithMeans(k=60, sim_options={'name': 'pearson_baseline', 'user_based': True})\n",
    "algo_1.fit(trainset)"
   ]
  },
  {
   "cell_type": "code",
   "execution_count": 11,
   "metadata": {},
   "outputs": [],
   "source": [
    "test_pred = algo_1.test(testset)"
   ]
  },
  {
   "cell_type": "code",
   "execution_count": 12,
   "metadata": {},
   "outputs": [
    {
     "name": "stdout",
     "output_type": "stream",
     "text": [
      "RMSE: 0.8859\n"
     ]
    },
    {
     "data": {
      "text/plain": [
       "0.8858606345555965"
      ]
     },
     "execution_count": 12,
     "metadata": {},
     "output_type": "execute_result"
    }
   ],
   "source": [
    "accuracy.rmse(test_pred, verbose=True)"
   ]
  },
  {
   "cell_type": "code",
   "execution_count": 13,
   "metadata": {},
   "outputs": [
    {
     "data": {
      "text/plain": [
       "<surprise.prediction_algorithms.matrix_factorization.SVD at 0x220f601b9a0>"
      ]
     },
     "execution_count": 13,
     "metadata": {},
     "output_type": "execute_result"
    }
   ],
   "source": [
    "algo_2 = SVD()\n",
    "algo_2.fit(trainset)"
   ]
  },
  {
   "cell_type": "code",
   "execution_count": 14,
   "metadata": {},
   "outputs": [],
   "source": [
    "test_pred = algo_2.test(testset)"
   ]
  },
  {
   "cell_type": "code",
   "execution_count": 15,
   "metadata": {},
   "outputs": [
    {
     "name": "stdout",
     "output_type": "stream",
     "text": [
      "RMSE: 0.8693\n"
     ]
    },
    {
     "data": {
      "text/plain": [
       "0.8692938221129964"
      ]
     },
     "execution_count": 15,
     "metadata": {},
     "output_type": "execute_result"
    }
   ],
   "source": [
    "accuracy.rmse(test_pred, verbose=True)"
   ]
  },
  {
   "cell_type": "code",
   "execution_count": 16,
   "metadata": {},
   "outputs": [
    {
     "data": {
      "text/plain": [
       "Prediction(uid=15, iid='Fight Club (1999)', r_ui=None, est=3.240721206384464, details={'actual_k': 60, 'was_impossible': False})"
      ]
     },
     "execution_count": 16,
     "metadata": {},
     "output_type": "execute_result"
    }
   ],
   "source": [
    "algo_1.predict(uid=15, iid='Fight Club (1999)')"
   ]
  },
  {
   "cell_type": "code",
   "execution_count": 17,
   "metadata": {},
   "outputs": [
    {
     "data": {
      "text/plain": [
       "Prediction(uid=15, iid='Fight Club (1999)', r_ui=None, est=3.2722189712919914, details={'was_impossible': False})"
      ]
     },
     "execution_count": 17,
     "metadata": {},
     "output_type": "execute_result"
    }
   ],
   "source": [
    "algo_2.predict(uid=15, iid='Fight Club (1999)')"
   ]
  },
  {
   "cell_type": "markdown",
   "metadata": {},
   "source": [
    " * фунция вывода рекомендаций\n"
   ]
  },
  {
   "cell_type": "code",
   "execution_count": 69,
   "metadata": {},
   "outputs": [],
   "source": [
    "def movie_recomendation(user_id):\n",
    "    current_uid = user_id\n",
    "    \n",
    "    rated_movies1 = dataset[lambda x: x['uid'] == current_uid]  #фильмы, у которых есть рейтинг (просмотрены пользователем)\n",
    "    \n",
    "    unrated_movies = []\n",
    "    iid_unique = dataset.iid.unique()\n",
    "\n",
    "    for i in range(100):\n",
    "        if iid_unique[i] not in rated_movies1.iid:    #список 100 непросмотенных пользователем фильмов\n",
    "            unrated_movies.append(iid_unique[i])\n",
    "        else:\n",
    "            continue\n",
    "            \n",
    "    pre_recom_est = []        #предсказание моделями рейтингов непросмотенных фильмов и их усреднение\n",
    "    pre_recom_title = []\n",
    "\n",
    "    for i in range(100):\n",
    "        g_est = 0.5 * algo_1.predict(uid=current_uid, iid=unrated_movies[i]).est + 0.5 * algo_2.predict(uid=current_uid, iid=unrated_movies[i]).est\n",
    "        pre_recom_est.append(g_est)\n",
    "        pre_recom_title.append(unrated_movies[i])\n",
    "    \n",
    "    best_est = np.argsort(pre_recom_est)[-10:]   #вывод 10 лучших по предсказанию фильмов\n",
    "    for i in reversed(best_est):\n",
    "        print(pre_recom_title[i], pre_recom_est[i])\n"
   ]
  },
  {
   "cell_type": "code",
   "execution_count": 70,
   "metadata": {},
   "outputs": [
    {
     "name": "stdout",
     "output_type": "stream",
     "text": [
      "Schindler's List (1993) 4.8662742180124505\n",
      "Christmas Story, A (1983) 4.819830136539945\n",
      "Beauty and the Beast (1991) 4.802018378013276\n",
      "Apollo 13 (1995) 4.7958441202121005\n",
      "Rain Man (1988) 4.770427331837749\n",
      "Ben-Hur (1959) 4.758032903899439\n",
      "Toy Story 2 (1999) 4.737770424110732\n",
      "Wizard of Oz, The (1939) 4.732262264884994\n",
      "Back to the Future (1985) 4.7292463410799\n",
      "Sound of Music, The (1965) 4.720957785567405\n"
     ]
    }
   ],
   "source": [
    "movie_recomendation(1.0)"
   ]
  },
  {
   "cell_type": "code",
   "execution_count": 71,
   "metadata": {},
   "outputs": [
    {
     "name": "stdout",
     "output_type": "stream",
     "text": [
      "Gladiator (2000) 4.353207739921809\n",
      "Braveheart (1995) 4.348065799037607\n",
      "Green Mile, The (1999) 4.1600696215138\n",
      "Star Wars: Episode IV - A New Hope (1977) 4.084579131680256\n",
      "Schindler's List (1993) 4.058923910840108\n",
      "Saving Private Ryan (1998) 4.053430219835571\n",
      "Few Good Men, A (1992) 4.043874281044726\n",
      "Sixth Sense, The (1999) 4.037448333962896\n",
      "Close Shave, A (1995) 3.948224035850231\n",
      "Ferris Bueller's Day Off (1986) 3.9482118469510636\n"
     ]
    }
   ],
   "source": [
    "movie_recomendation(15.0)"
   ]
  },
  {
   "cell_type": "code",
   "execution_count": 73,
   "metadata": {},
   "outputs": [
    {
     "name": "stdout",
     "output_type": "stream",
     "text": [
      "Saving Private Ryan (1998) 4.94839601414956\n",
      "Sixth Sense, The (1999) 4.929489095957349\n",
      "Schindler's List (1993) 4.861098344123972\n",
      "Terminator 2: Judgment Day (1991) 4.7599321336684035\n",
      "Gladiator (2000) 4.756344029445167\n",
      "Green Mile, The (1999) 4.732657500948706\n",
      "Star Wars: Episode IV - A New Hope (1977) 4.709757855236022\n",
      "Braveheart (1995) 4.688864576496651\n",
      "Star Wars: Episode VI - Return of the Jedi (1983) 4.609391496675084\n",
      "E.T. the Extra-Terrestrial (1982) 4.557176072773052\n"
     ]
    }
   ],
   "source": [
    "movie_recomendation(127.0)"
   ]
  }
 ],
 "metadata": {
  "kernelspec": {
   "display_name": "Python 3",
   "language": "python",
   "name": "python3"
  },
  "language_info": {
   "codemirror_mode": {
    "name": "ipython",
    "version": 3
   },
   "file_extension": ".py",
   "mimetype": "text/x-python",
   "name": "python",
   "nbconvert_exporter": "python",
   "pygments_lexer": "ipython3",
   "version": "3.8.5"
  }
 },
 "nbformat": 4,
 "nbformat_minor": 4
}
